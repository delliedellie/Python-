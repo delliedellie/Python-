{
 "cells": [
  {
   "cell_type": "markdown",
   "metadata": {
    "id": "12nMbiBB_vbb"
   },
   "source": [
    "# Вспомнить то, чего не знали :)\n",
    "\n",
    "(python)"
   ]
  },
  {
   "cell_type": "markdown",
   "metadata": {},
   "source": [
    "## О курсе\n",
    "\n",
    "В курсе вы познакомитесь с языком программирования `Python` и с некоторыми методами анализа данных.\n",
    "\n",
    "### Анализ данных\n",
    "Сначала обсудим более ясное понятие — **анализ данных**. Что вообще может быть **данными**?\n",
    "\n",
    "Ну, в филологии это скорее всего тексты на каком-то языке. Уже *по одним текстам* можно смотреть что-то интересное: по литературным — как часто встречается персонаж, какие персонажи встречаются вместе, по-разному ли автор говорит про женских и мужских персонажей. Может быть и что-то более языковое-лингвистическое: активные или пассивные формы глаголов используются (опять же, например, в связи с персонажами). Можно работать со стихами, разбираться какие рифмы использует автор. Можно даже делать атрибуцию текстов (это непросто и требует много математики-статистики). Когда мы выполняем подобные задачи, у нас есть какие-то данные (здесь — текст), и мы по ним стараемся сделать выводы, анализируя их. Это и есть **анализ данных**. И конечно, большая часть этого и многое другое актуальны не только для литературных текстов, но и для публицистических и научных. И анализировать таким образом можно их.\n",
    "\n",
    "*О тексте* нам может быть известно что-то ещё:\n",
    "- автор\n",
    "- год(ы) написания\n",
    "- место написания\n",
    "- и т.д. ...\n",
    "\n",
    "Это что-то, что не содержится в самом тексте непосредственно. Это **метаданные**, т.е. данные о данных. Про них не стоит забывать, они полезны.\n",
    "\n",
    "Мы будем заниматься анализом данных наиболее подробно в 4 модуле. Там поговорим немного о статистике, графиках и т.д."
   ]
  },
  {
   "cell_type": "markdown",
   "metadata": {},
   "source": [
    "### Программирование, код программ как просто текст "
   ]
  },
  {
   "cell_type": "markdown",
   "metadata": {},
   "source": [
    "Теперь обсудим **программирование** и *языки программирования*. С изучения языка `Python` мы начнём, это модуль 3."
   ]
  },
  {
   "cell_type": "markdown",
   "metadata": {},
   "source": [
    "Программирование это создание компьютерных программ :))\n",
    "\n",
    "Программы же решают для нас какую-то задачу:\n",
    "- от тривиальной, типа распечатать строчку \"Привет, мир!\", [смотрите ниже](#first-code)\n",
    "- до очень большой и сложной типа поддержания работы сайта или обучения нейронной сети делать картинку из текста [[Midjouney](https://habr.com/ru/company/selectel/blog/709944/)]"
   ]
  },
  {
   "cell_type": "markdown",
   "metadata": {},
   "source": [
    "Код на языке программирования это просто текст, открыть его можно в любом текстовом редакторе. Да и писать можно в редакторе.\n",
    "Но использовать и запускать код можно только в специальных программах, типа текстовых редакторов с расширениями или больших (и иногда громоздких) *IDE* (*интегрированных средах разработки* с кучей функционала)\n",
    "\n",
    "Если я помещу простенький код в текстовый файл с расширением `.py` (таково расширение у файлов с кодом на питоне), но **не скажу** своему текстовому редактору, **что это содержательно код на питоне**, а скажу, что просто текст, то будет вот так:\n",
    "\n",
    "![скрин-блокнот-сказано_обычный_текст-без_подсветки](./assets/py_nohl.png)\n",
    "\n",
    "Видим просто текст чёрным цветом."
   ]
  },
  {
   "cell_type": "markdown",
   "metadata": {},
   "source": [
    "Но вот если скажу то будет красиво разноцветно! (опять же, сравните с кодом, который печатает `\"Привет, мир!\"`, [смотрите ниже](#first-code)) \n",
    "\n",
    "![скрин-блокнот-сказано_код_python-с_подсветкой](./assets/py_hl.png)"
   ]
  },
  {
   "cell_type": "markdown",
   "metadata": {},
   "source": [
    "### Исполнение кода\n",
    "<a name=\"run\"></a>"
   ]
  },
  {
   "cell_type": "markdown",
   "metadata": {},
   "source": [
    "**Так откуда тогда магия, что делает код кодом, выполняющим действия, а не просто текстом?**"
   ]
  },
  {
   "cell_type": "markdown",
   "metadata": {},
   "source": [
    "Код делает кодом и позволяет программам работать другая программа. Для нашего языка `Python` эта программа называется *интерпретатор языка `Python`*."
   ]
  },
  {
   "cell_type": "markdown",
   "metadata": {},
   "source": [
    "#### Со звёздочкой* (необязательно): интерпретируемый sigma `Python` и компилируемые alpha языки "
   ]
  },
  {
   "cell_type": "markdown",
   "metadata": {},
   "source": [
    "Ниже в ячейке материал со звёздочкой, это для общего развития и необязательно хорошо понимать. Не расстраивайтесь, если не было понятно на паре, и если здесь не понятно тоже. (Но если интересно, то порасспрашивайте нас!)."
   ]
  },
  {
   "cell_type": "markdown",
   "metadata": {},
   "source": [
    "`<начало материала со звёздочкой>`\n",
    "\n",
    "Вообще вы, наверняка знаете, что самая главная на компьютере и очень сложная программа это операционная система. У кого-то из вас это Windows, у кого-то MacOs, и возможно вы слышали про разные системы, основанные на Linux.\n",
    "\n",
    "Благодаря этой главной программе мы вообще можем пользоваться компьютером как привыкли: включать **другие программы** с интерфейсом, водить мышкой и нажимать на кнопки.\n",
    "\n",
    "Так вот, есть языки программирования, на которых мы написали код, но потом нам нужно подождать, пока он переведётся в понятный для компьютера вид. Ясное дело, что понимает компьютер единицы 1 и нули 0, а не умные программы на языках программирования. Языки, где нужен вот такой вот этап перевода красивого написанного программистом кода в машинный код нулей и единиц называются **компилируемыми**. К ним относятся например C++, Rust, Java, Go.\n",
    "\n",
    "К таким языкам НЕ относится Python. Это язык интерпретируемый. Это значит, что с кодом, который написал программист быстренько разбирается промежуточная программа — интерпретатор, она чуть его упрощает, но не до нулей и единиц, и потом запускает и на ходу выполняет. Ровно поэтому не нужно ждать, когда мы запишем в питоне `2 + 2`: мы сразу получаем ответ `4`, потому что интерпретатор быстренько это выполняет на ходу. Таким образом, `python` — **интерпретируемый** язык. Сюда же язык для статистики и анализа данных R.\n",
    "\n",
    "[[StackOverflow: Разница между компилятором и интерпретатором](https://ru.stackoverflow.com/questions/606941/%D0%A0%D0%B0%D0%B7%D0%BD%D0%B8%D1%86%D0%B0-%D0%BC%D0%B5%D0%B6%D0%B4%D1%83-%D0%BA%D0%BE%D0%BC%D0%BF%D0%B8%D0%BB%D1%8F%D1%82%D0%BE%D1%80%D0%BE%D0%BC-%D0%B8-%D0%B8%D0%BD%D1%82%D0%B5%D1%80%D0%BF%D1%80%D0%B5%D1%82%D0%B0%D1%82%D0%BE%D1%80%D0%BE%D0%BC)]\n",
    "\n",
    "`<конец материала со звёздочкой>`"
   ]
  },
  {
   "cell_type": "markdown",
   "metadata": {},
   "source": [
    "## На что вы смотрите и что видите"
   ]
  },
  {
   "cell_type": "markdown",
   "metadata": {},
   "source": [
    "Вы видите тетрадку, где бок о бок с кодом на `python` есть и просто текст-текст. Это удобно, всё рядом, код можно обширно пояснять.\n",
    "\n",
    "\n",
    "Сами по себе тетрадки это просто вот этот сохранённый текст и код на языке `python` (который вообще-то тоже текст, как мы помним!). Но сейчас они у нас в чём-то открыты, будь то `GitHub`, `Google Colab`, `Jupyter` или что-то ещё. Тогда они ещё довольно красиво оформлены (с разными шрифтами для текста и кода, серым фоном для кода и т.д.). Т.е. красивое представление тетрадок и возможность запускать код даются не ими самими, а программами, где мы их открываем. (так же как и просто с кодом, [см. выше!!](#run)) \n",
    "\n",
    "Они имеют расширение `.ipynb`. "
   ]
  },
  {
   "cell_type": "code",
   "execution_count": null,
   "metadata": {},
   "outputs": [],
   "source": []
  },
  {
   "cell_type": "markdown",
   "metadata": {},
   "source": [
    "## Первый код \n",
    "<a name=\"first-code\"></a>"
   ]
  },
  {
   "cell_type": "markdown",
   "metadata": {},
   "source": [
    "Первое, что обычно делают при знакомстве с языком программирования это печатают `\"Привет, мир!\"`.\n",
    "Не будем отступать от традиции. Вот так это выглядит на языке python: "
   ]
  },
  {
   "cell_type": "code",
   "execution_count": 58,
   "metadata": {
    "colab": {
     "base_uri": "https://localhost:8080/"
    },
    "executionInfo": {
     "elapsed": 269,
     "status": "ok",
     "timestamp": 1671703867759,
     "user": {
      "displayName": "Татьяна Казакова",
      "userId": "07828874048466328312"
     },
     "user_tz": -180
    },
    "id": "V3YUiQHcADaC",
    "outputId": "2c810481-3da4-46a6-c28e-e67de127aab5"
   },
   "outputs": [
    {
     "name": "stdout",
     "output_type": "stream",
     "text": [
      "Hello, world!\n"
     ]
    }
   ],
   "source": [
    "print('Hello, world!')"
   ]
  },
  {
   "cell_type": "markdown",
   "metadata": {},
   "source": [
    "Заметьте, как `Hello, world!` распечаталось под ячейкой с кодом! Это **вывод ячейки**."
   ]
  },
  {
   "cell_type": "markdown",
   "metadata": {},
   "source": [
    "Ну, выглядит как будто несложно: мы даём команду `печатать` — `print`\n",
    "    (в языках программирования обычно используются английские слова и сокращения от них),\n",
    "    и пишем что печатать — строчку `'Hello, world!'`.\n",
    "    \n",
    "Но вообще происходит тут немало! Команда `print` это функция. Функции выполняют какое-то предопределённое действие с тем, с чем их попросят, — **со своими аргументами**.\n",
    "Функция `print` печатает, а выполнить это действие мы попросили со строкой `Hello, world!`. То, что мы просим функцию выполнить действие, вызываем её показано круглыми скобками `(...)`. Именно внутри скобок пишут **аргументы**.\n",
    "\n",
    "Строка это набор символов и записываются строки просто между кавычками, одинарными `'`, как выше, или двойными `\"`. Можно использовать одинарные, или двойные, как больше нравится. Главное чтобы набор символов с двух сторон охватывался одинаковыми кавычками: `'Hello, world!'` или `\"Hello, world!\"`."
   ]
  },
  {
   "cell_type": "markdown",
   "metadata": {},
   "source": [
    "Распечатайте в ячейке ниже `And hello, philology!`. Используйте здесь двойные кавычки, чтобы попробовать! "
   ]
  },
  {
   "cell_type": "code",
   "execution_count": 65,
   "metadata": {},
   "outputs": [],
   "source": [
    "# Ваш код здесь, результат должен быть как в ячейке ниже.\n"
   ]
  },
  {
   "cell_type": "code",
   "execution_count": 63,
   "metadata": {},
   "outputs": [
    {
     "name": "stdout",
     "output_type": "stream",
     "text": [
      "And hello, philology!\n"
     ]
    }
   ],
   "source": [
    "# Ваш код здесь\n"
   ]
  },
  {
   "cell_type": "markdown",
   "metadata": {},
   "source": [
    "## Переменные\n",
    "\n",
    "*What's in a name?*"
   ]
  },
  {
   "cell_type": "markdown",
   "metadata": {},
   "source": [
    "Если мы хотим взять что-то и использовать это не сразу, потом, может даже несколько раз, то нам нужно это что-то **назвать**. \n",
    "\n",
    "\n",
    "Ниже мы создаём переменную, название для числа 5. Это название `a`. Переменная `a` теперь равна пяти."
   ]
  },
  {
   "cell_type": "code",
   "execution_count": null,
   "metadata": {
    "colab": {
     "base_uri": "https://localhost:8080/"
    },
    "executionInfo": {
     "elapsed": 6,
     "status": "ok",
     "timestamp": 1673585909480,
     "user": {
      "displayName": "Татьяна Казакова",
      "userId": "07828874048466328312"
     },
     "user_tz": -180
    },
    "id": "6bj8FZH4_gVO",
    "outputId": "7fbf5ab1-a77f-4070-880e-47eec59e8943"
   },
   "outputs": [
    {
     "name": "stdout",
     "output_type": "stream",
     "text": [
      "5\n"
     ]
    }
   ],
   "source": [
    "a = 5\n",
    "print(a)"
   ]
  },
  {
   "cell_type": "markdown",
   "metadata": {},
   "source": [
    "**Обратите внимание!** Чуть раньше мы печатали строку `\"Hello, world!\"` и прямо передавали эту строку как аргумент в функцию `print`. Здесь же мы передаём штуку другого характера: переменную `a`. Функция выяснит значение переменной и сработает с этим значением."
   ]
  },
  {
   "cell_type": "code",
   "execution_count": 67,
   "metadata": {
    "colab": {
     "base_uri": "https://localhost:8080/"
    },
    "executionInfo": {
     "elapsed": 294,
     "status": "ok",
     "timestamp": 1673585911577,
     "user": {
      "displayName": "Татьяна Казакова",
      "userId": "07828874048466328312"
     },
     "user_tz": -180
    },
    "id": "aZHh1sIoDz0N",
    "outputId": "4d68c2b6-7bd1-44f7-86e8-efaa8c04a21d"
   },
   "outputs": [
    {
     "name": "stdout",
     "output_type": "stream",
     "text": [
      "12\n",
      "12\n"
     ]
    }
   ],
   "source": [
    "b = 7\n",
    "c =  a + b\n",
    "print(c)\n",
    "print(a + b)"
   ]
  },
  {
   "cell_type": "markdown",
   "metadata": {},
   "source": [
    "**Обратите внимание! [2]** Теперь мы вообще передали в функцию арифметическое выражение. Так можно! Точно как с переменными: выражение посчитается и функция сработает с результатом этого выражения."
   ]
  },
  {
   "cell_type": "code",
   "execution_count": 66,
   "metadata": {
    "colab": {
     "base_uri": "https://localhost:8080/"
    },
    "executionInfo": {
     "elapsed": 257,
     "status": "ok",
     "timestamp": 1673585990217,
     "user": {
      "displayName": "Татьяна Казакова",
      "userId": "07828874048466328312"
     },
     "user_tz": -180
    },
    "id": "B26POrIfELei",
    "outputId": "41b201c2-ef77-4752-8a41-3872d22c7cba"
   },
   "outputs": [
    {
     "name": "stdout",
     "output_type": "stream",
     "text": [
      "a + b = это ц\n",
      "3.3333333333333335\n"
     ]
    }
   ],
   "source": [
    "print(\"a + b =\", c)  # Можно указать через запятую несколько сущностей для печати\n",
    "print(10 / 3)  # Комментарии можно писать после решётки\n",
    "# В дробях точка"
   ]
  },
  {
   "cell_type": "code",
   "execution_count": 6,
   "metadata": {
    "colab": {
     "base_uri": "https://localhost:8080/",
     "height": 130
    },
    "executionInfo": {
     "elapsed": 238,
     "status": "error",
     "timestamp": 1671704030039,
     "user": {
      "displayName": "Татьяна Казакова",
      "userId": "07828874048466328312"
     },
     "user_tz": -180
    },
    "id": "2YMoCqv4G1yt",
    "outputId": "d1fd8011-d5a9-4bc7-8c69-838e4b253f94"
   },
   "outputs": [
    {
     "ename": "SyntaxError",
     "evalue": "invalid syntax (1379360594.py, line 1)",
     "output_type": "error",
     "traceback": [
      "\u001b[1;36m  Cell \u001b[1;32mIn [6], line 1\u001b[1;36m\u001b[0m\n\u001b[1;33m    А без решётки не код ломает программу.\u001b[0m\n\u001b[1;37m      ^\u001b[0m\n\u001b[1;31mSyntaxError\u001b[0m\u001b[1;31m:\u001b[0m invalid syntax\n"
     ]
    }
   ],
   "source": [
    "А без решётки не код ломает программу.\n",
    "print('работает')"
   ]
  },
  {
   "cell_type": "markdown",
   "metadata": {},
   "source": [
    "Ещё можно создать несколько переменных с одинаковым значением (несколько имён для значения!):"
   ]
  },
  {
   "cell_type": "code",
   "execution_count": 69,
   "metadata": {},
   "outputs": [
    {
     "name": "stdout",
     "output_type": "stream",
     "text": [
      "42\n",
      "42\n",
      "42\n"
     ]
    }
   ],
   "source": [
    "x = y = z = 42 \n",
    "\n",
    "print(x)\n",
    "print(y)\n",
    "print(z)"
   ]
  },
  {
   "cell_type": "markdown",
   "metadata": {},
   "source": [
    "## Распаковка / множественное присвоение"
   ]
  },
  {
   "cell_type": "markdown",
   "metadata": {},
   "source": [
    "можно записать слева и справа от `=` одинаковое количество объектов, и присвоить так: "
   ]
  },
  {
   "cell_type": "code",
   "execution_count": 4,
   "metadata": {},
   "outputs": [
    {
     "name": "stdout",
     "output_type": "stream",
     "text": [
      "это а\n",
      "это б\n",
      "это ц\n"
     ]
    }
   ],
   "source": [
    "a, b, c = 'это а', 'это б', 'это ц' \n",
    "\n",
    "print(a)\n",
    "print(b)\n",
    "print(c)"
   ]
  },
  {
   "cell_type": "markdown",
   "metadata": {},
   "source": [
    "**одинаковое!!**"
   ]
  },
  {
   "cell_type": "code",
   "execution_count": 28,
   "metadata": {},
   "outputs": [
    {
     "ename": "ValueError",
     "evalue": "not enough values to unpack (expected 3, got 2)",
     "output_type": "error",
     "traceback": [
      "\u001b[1;31m---------------------------------------------------------------------------\u001b[0m",
      "\u001b[1;31mValueError\u001b[0m                                Traceback (most recent call last)",
      "Cell \u001b[1;32mIn [28], line 1\u001b[0m\n\u001b[1;32m----> 1\u001b[0m a, b, c \u001b[38;5;241m=\u001b[39m \u001b[38;5;124m'\u001b[39m\u001b[38;5;124mэто а\u001b[39m\u001b[38;5;124m'\u001b[39m, \u001b[38;5;124m'\u001b[39m\u001b[38;5;124mэто б\u001b[39m\u001b[38;5;124m'\u001b[39m\n\u001b[0;32m      3\u001b[0m \u001b[38;5;28mprint\u001b[39m(a)\n\u001b[0;32m      4\u001b[0m \u001b[38;5;28mprint\u001b[39m(b)\n",
      "\u001b[1;31mValueError\u001b[0m: not enough values to unpack (expected 3, got 2)"
     ]
    }
   ],
   "source": [
    "a, b, c = 'это а', 'это б'\n",
    "\n",
    "print(a)\n",
    "print(b)\n",
    "print(c)"
   ]
  },
  {
   "cell_type": "code",
   "execution_count": 60,
   "metadata": {},
   "outputs": [
    {
     "ename": "ValueError",
     "evalue": "too many values to unpack (expected 2)",
     "output_type": "error",
     "traceback": [
      "\u001b[1;31m---------------------------------------------------------------------------\u001b[0m",
      "\u001b[1;31mValueError\u001b[0m                                Traceback (most recent call last)",
      "Cell \u001b[1;32mIn [60], line 1\u001b[0m\n\u001b[1;32m----> 1\u001b[0m a, b, \u001b[38;5;241m=\u001b[39m \u001b[38;5;124m'\u001b[39m\u001b[38;5;124mэто а\u001b[39m\u001b[38;5;124m'\u001b[39m, \u001b[38;5;124m'\u001b[39m\u001b[38;5;124mэто б\u001b[39m\u001b[38;5;124m'\u001b[39m, \u001b[38;5;124m'\u001b[39m\u001b[38;5;124mэто ц\u001b[39m\u001b[38;5;124m'\u001b[39m \n\u001b[0;32m      3\u001b[0m \u001b[38;5;28mprint\u001b[39m(a)\n\u001b[0;32m      4\u001b[0m \u001b[38;5;28mprint\u001b[39m(b)\n",
      "\u001b[1;31mValueError\u001b[0m: too many values to unpack (expected 2)"
     ]
    }
   ],
   "source": [
    "a, b, = 'это а', 'это б', 'это ц' \n",
    "\n",
    "print(a)\n",
    "print(b)\n",
    "print(c)"
   ]
  },
  {
   "cell_type": "markdown",
   "metadata": {
    "id": "q1rOUkp5aaAI"
   },
   "source": [
    "## Математические операторы\n",
    "`+ - * / =` , а ещё есть остаток от деления (`%`), целая часть при делении (`//`), возведение в степень (`**`)\n",
    "\n",
    "Каждое выражение с новой строки.\n",
    "\n",
    "Порядок действий привычный."
   ]
  },
  {
   "cell_type": "code",
   "execution_count": 1,
   "metadata": {
    "colab": {
     "base_uri": "https://localhost:8080/"
    },
    "executionInfo": {
     "elapsed": 7,
     "status": "ok",
     "timestamp": 1673702235344,
     "user": {
      "displayName": "Татьяна Казакова",
      "userId": "07828874048466328312"
     },
     "user_tz": -180
    },
    "id": "Sz4rMo5AauBb",
    "outputId": "137c7602-7c65-423b-b294-5d57d6d9bc60"
   },
   "outputs": [
    {
     "name": "stdout",
     "output_type": "stream",
     "text": [
      "6\n",
      "8\n"
     ]
    }
   ],
   "source": [
    "print(2 + 2 * 2)  # = 6\n",
    "print((2 + 2) * 2)  # = 8"
   ]
  },
  {
   "cell_type": "markdown",
   "metadata": {
    "id": "WU65rD42dP8Q"
   },
   "source": [
    "В десятичных дробях точка `.` (не запятая `,`). Так принято в англоязычном мире."
   ]
  },
  {
   "cell_type": "code",
   "execution_count": 70,
   "metadata": {
    "id": "ORuiWD0MagmT"
   },
   "outputs": [
    {
     "name": "stdout",
     "output_type": "stream",
     "text": [
      "3.3333333333333335\n"
     ]
    }
   ],
   "source": [
    "print(10 / 3)"
   ]
  },
  {
   "cell_type": "markdown",
   "metadata": {},
   "source": [
    "Обратите внимание, что `10 / 3` должно бы быть 3.(3) - три целых три в периоде. Но тут в конце почему-то `5`. Возможно дело в несовершенном хранении в компьютере дробных чисел"
   ]
  },
  {
   "cell_type": "code",
   "execution_count": 74,
   "metadata": {},
   "outputs": [
    {
     "name": "stdout",
     "output_type": "stream",
     "text": [
      "1.1111111111111112\n"
     ]
    }
   ],
   "source": [
    "print(10/9)"
   ]
  },
  {
   "cell_type": "markdown",
   "metadata": {
    "id": "P7J3Ls9rdcTm"
   },
   "source": [
    "Посмотрим на менее известные операции"
   ]
  },
  {
   "cell_type": "code",
   "execution_count": 80,
   "metadata": {
    "colab": {
     "base_uri": "https://localhost:8080/"
    },
    "executionInfo": {
     "elapsed": 271,
     "status": "ok",
     "timestamp": 1671704071512,
     "user": {
      "displayName": "Татьяна Казакова",
      "userId": "07828874048466328312"
     },
     "user_tz": -180
    },
    "id": "FAH3q1XEgrWY",
    "outputId": "f46b3f97-97a3-4b49-ad56-aab73dacd41e"
   },
   "outputs": [
    {
     "data": {
      "text/plain": [
       "125"
      ]
     },
     "execution_count": 80,
     "metadata": {},
     "output_type": "execute_result"
    }
   ],
   "source": [
    "5 % 2  # 1 - остаток от деления (5 = 2 * 2 + 1)\n",
    "5 // 2  # 2 - целая часть       (5 = 2 * 2 + 1)\n",
    "5 ** 3  # 125 - возведение в степень\n",
    "# В таких тетрадках с кодом выводится последнее действие"
   ]
  },
  {
   "cell_type": "markdown",
   "metadata": {
    "id": "3v4mThqMdkzV"
   },
   "source": [
    "Произвели три действия, а вывелось одно число.\n",
    "\n",
    "Потому что в .ipynb тетрадках выводится последнее действие в ячейке, даже если не просить его напечатать.\n",
    "\n",
    "Если нужно напечать конкретное действие или переменную, используем print()"
   ]
  },
  {
   "cell_type": "code",
   "execution_count": 81,
   "metadata": {
    "colab": {
     "base_uri": "https://localhost:8080/"
    },
    "executionInfo": {
     "elapsed": 253,
     "status": "ok",
     "timestamp": 1673586271653,
     "user": {
      "displayName": "Татьяна Казакова",
      "userId": "07828874048466328312"
     },
     "user_tz": -180
    },
    "id": "9QG4lbMpg1bz",
    "outputId": "d7da0549-2113-497a-ae8f-25d63344b653"
   },
   "outputs": [
    {
     "name": "stdout",
     "output_type": "stream",
     "text": [
      "1\n",
      "2\n",
      "125\n"
     ]
    }
   ],
   "source": [
    "print(5 % 2)\n",
    "print(5 // 2)\n",
    "print(5 ** 3)"
   ]
  },
  {
   "cell_type": "markdown",
   "metadata": {
    "id": "SoK-wluUQGcv"
   },
   "source": [
    "## Типы данных\n",
    "Есть разные объекты: числа, строки с текстом, списки, словари и т.д.\n",
    "\n",
    "Посмотрим на 3 типа данных:\n",
    "- целые числа\n",
    "- десятичные дроби (числа с точкой)\n",
    "- строки"
   ]
  },
  {
   "cell_type": "code",
   "execution_count": 12,
   "metadata": {
    "executionInfo": {
     "elapsed": 229,
     "status": "ok",
     "timestamp": 1673654596307,
     "user": {
      "displayName": "Татьяна Казакова",
      "userId": "07828874048466328312"
     },
     "user_tz": -180
    },
    "id": "HNUeavR9QFbR"
   },
   "outputs": [],
   "source": [
    "number = 324  # целое число\n",
    "number_float = 324.52 # число \"с плавающей точкой\"\n",
    "text = 'что-то в кавычках' # строка # кавычки могут быть одинарные, двойные, тройные\n",
    "\n",
    "# Мы храним их в переменных\n",
    "# number, number_float, text - переменные\n",
    "\n",
    "# Название переменных может быть любое. Лучше латиницей, лучше говорящие.\n",
    "плим = \"а я придумал слово\"  # не делайте так"
   ]
  },
  {
   "cell_type": "markdown",
   "metadata": {
    "id": "HZ5cwY2jkn14"
   },
   "source": [
    "`type()` - узнать тип данных"
   ]
  },
  {
   "cell_type": "code",
   "execution_count": 13,
   "metadata": {
    "colab": {
     "base_uri": "https://localhost:8080/"
    },
    "executionInfo": {
     "elapsed": 537,
     "status": "ok",
     "timestamp": 1673654598162,
     "user": {
      "displayName": "Татьяна Казакова",
      "userId": "07828874048466328312"
     },
     "user_tz": -180
    },
    "id": "JoSK7D89km0S",
    "outputId": "dcd8f094-822a-44d6-8213-40e0d7e5a109"
   },
   "outputs": [
    {
     "name": "stdout",
     "output_type": "stream",
     "text": [
      "<class 'int'>\n",
      "<class 'float'>\n",
      "<class 'str'>\n"
     ]
    }
   ],
   "source": [
    "print(type(324)) # целое число - int (от integer number)\n",
    "print(type(324.3407))  # число с плавающей точкой - float (от floating-point number)\n",
    "print(type(text))  # строка - str (от string)"
   ]
  },
  {
   "cell_type": "markdown",
   "metadata": {
    "id": "NtSCJw8BgxNu"
   },
   "source": [
    "- целое число - `int` (от integer number)\n",
    "- число с плавающей точкой - `float` (от floating-point number)\n",
    "- строка - `str` (от string)"
   ]
  },
  {
   "cell_type": "markdown",
   "metadata": {
    "id": "Hi9MsaCknCU4"
   },
   "source": [
    "Знать тип данных важно, потому что не с любым типом данных можно совершать определённые действия"
   ]
  },
  {
   "cell_type": "code",
   "execution_count": 3,
   "metadata": {
    "colab": {
     "base_uri": "https://localhost:8080/"
    },
    "executionInfo": {
     "elapsed": 241,
     "status": "ok",
     "timestamp": 1673703845573,
     "user": {
      "displayName": "Татьяна Казакова",
      "userId": "07828874048466328312"
     },
     "user_tz": -180
    },
    "id": "EXNhibUtnXDx",
    "outputId": "f578c790-aa99-4fb9-82f0-5a767303d4b7"
   },
   "outputs": [
    {
     "name": "stdout",
     "output_type": "stream",
     "text": [
      "строчка1строчка2\n",
      "12\n",
      "3\n"
     ]
    }
   ],
   "source": [
    "# Что будет, если сложить две строчки?\n",
    "print(\"строчка1\" + \"строчка2\")  # 'строчка1строчка2'\n",
    "print(\"1\" + \"2\")  # '12' будет\n",
    "\n",
    "# А если сложить два числа:\n",
    "print(1 + 2)  # тут 3 будет"
   ]
  },
  {
   "cell_type": "code",
   "execution_count": 17,
   "metadata": {
    "colab": {
     "base_uri": "https://localhost:8080/",
     "height": 191
    },
    "executionInfo": {
     "elapsed": 238,
     "status": "error",
     "timestamp": 1673655363387,
     "user": {
      "displayName": "Татьяна Казакова",
      "userId": "07828874048466328312"
     },
     "user_tz": -180
    },
    "id": "JUoluSePn5K1",
    "outputId": "a19c8a37-d443-4f15-ca32-a1d241957f64"
   },
   "outputs": [
    {
     "ename": "TypeError",
     "evalue": "ignored",
     "output_type": "error",
     "traceback": [
      "\u001b[0;31m---------------------------------------------------------------------------\u001b[0m",
      "\u001b[0;31mTypeError\u001b[0m                                 Traceback (most recent call last)",
      "\u001b[0;32m<ipython-input-17-860b984538a4>\u001b[0m in \u001b[0;36m<module>\u001b[0;34m\u001b[0m\n\u001b[1;32m      1\u001b[0m \u001b[0;31m# складывать строки и числа вообще нельзя\u001b[0m\u001b[0;34m\u001b[0m\u001b[0;34m\u001b[0m\u001b[0;34m\u001b[0m\u001b[0m\n\u001b[0;32m----> 2\u001b[0;31m \u001b[0mprint\u001b[0m\u001b[0;34m(\u001b[0m\u001b[0;36m1\u001b[0m \u001b[0;34m+\u001b[0m \u001b[0;34m\" \"\u001b[0m \u001b[0;34m+\u001b[0m \u001b[0;36m2\u001b[0m\u001b[0;34m)\u001b[0m\u001b[0;34m\u001b[0m\u001b[0;34m\u001b[0m\u001b[0m\n\u001b[0m",
      "\u001b[0;31mTypeError\u001b[0m: unsupported operand type(s) for +: 'int' and 'str'"
     ]
    }
   ],
   "source": [
    "# складывать строки и числа вообще нельзя\n",
    "print(1 + \" \" + 2)"
   ]
  },
  {
   "cell_type": "markdown",
   "metadata": {
    "id": "-a7HVkwsok1U"
   },
   "source": [
    "##### *Про ошибки*\n",
    "\n",
    "Если у вас возникла ошибка, прочитайте объяснение. Здесь нам говорят, что + не умеет складывать int с str.\n",
    "\n",
    "Можно гуглить ошибки. Обычно на сайте stackoverflow уже решили вашу проблему."
   ]
  },
  {
   "cell_type": "code",
   "execution_count": 19,
   "metadata": {
    "colab": {
     "base_uri": "https://localhost:8080/"
    },
    "executionInfo": {
     "elapsed": 240,
     "status": "ok",
     "timestamp": 1673655778281,
     "user": {
      "displayName": "Татьяна Казакова",
      "userId": "07828874048466328312"
     },
     "user_tz": -180
    },
    "id": "7WauhfJBpo54",
    "outputId": "9a50a53b-0609-4a49-e430-f3d40492e992"
   },
   "outputs": [
    {
     "name": "stdout",
     "output_type": "stream",
     "text": [
      "5.5\n",
      "<class 'float'>\n"
     ]
    }
   ],
   "source": [
    "# К счастью, числа int и float складываются\n",
    "\n",
    "number_int = 3\n",
    "number_float = 2.5\n",
    "print(number_int + number_float)\n",
    "print(type(number_int + number_float))  # получается тип float"
   ]
  },
  {
   "cell_type": "markdown",
   "metadata": {
    "id": "fckWozLXFrUJ"
   },
   "source": [
    "## Есть функции:\n",
    "\n",
    "Их можно вызывать:\n",
    "\n",
    "Общий вид: `<function>(то_к_чему_надо_применить)`\n",
    "\n",
    "`print()` - мы видели выше. Печатает то, к чему применяется. Дополнительные аргументы это  \n",
    "\n",
    "- `sep=<строка>` &mdash; разделитель, когда печатаем несколько вещей (по умолчанию пробел)  \n",
    "- и `end=<строка>` &mdash; что распечатать в конце (по умолчанию новая строка `\\n`)\n",
    "\n",
    "\n",
    "\n",
    "`type()` - узнать тип данных"
   ]
  },
  {
   "cell_type": "markdown",
   "metadata": {
    "id": "p1pG1ljIkHqf",
    "tags": []
   },
   "source": [
    "вот эта новая!\n",
    "\n",
    "### `input()` - функция принимает текст от пользователя\n",
    "\n",
    "Функции input() можно передать в качестве аргумента строку, которую увидит пользователь перед вводом.\n",
    "\n",
    "Аргументы - значения, которые принимает функция. (То, что в скобках пишем)."
   ]
  },
  {
   "cell_type": "code",
   "execution_count": 8,
   "metadata": {
    "colab": {
     "base_uri": "https://localhost:8080/"
    },
    "executionInfo": {
     "elapsed": 35347,
     "status": "ok",
     "timestamp": 1673705054096,
     "user": {
      "displayName": "Татьяна Казакова",
      "userId": "07828874048466328312"
     },
     "user_tz": -180
    },
    "id": "RGoeQfp3lEP9",
    "outputId": "5168077f-0782-4f01-c5e5-a65c5af2cccb"
   },
   "outputs": [
    {
     "name": "stdout",
     "output_type": "stream",
     "text": [
      "А что вы хотите? Я просто пользователь.\n"
     ]
    }
   ],
   "source": [
    "# по умолчанию пользователь получает нулевую строку перед вводом (то есть ничего не видит)\n",
    "unknown_input = input()"
   ]
  },
  {
   "cell_type": "code",
   "execution_count": 14,
   "metadata": {
    "colab": {
     "base_uri": "https://localhost:8080/"
    },
    "executionInfo": {
     "elapsed": 4227,
     "status": "ok",
     "timestamp": 1673705216776,
     "user": {
      "displayName": "Татьяна Казакова",
      "userId": "07828874048466328312"
     },
     "user_tz": -180
    },
    "id": "Xma0ipouMfV6",
    "outputId": "af5bd621-f7ef-443d-9a0d-96e0aba4901f"
   },
   "outputs": [
    {
     "name": "stdout",
     "output_type": "stream",
     "text": [
      "Введите число и нажмите enter 42\n"
     ]
    }
   ],
   "source": [
    "# А вот тут мы объяснили, что от него хотим\n",
    "user_input = input('Введите число и нажмите enter ')"
   ]
  },
  {
   "cell_type": "code",
   "execution_count": 15,
   "metadata": {
    "colab": {
     "base_uri": "https://localhost:8080/"
    },
    "executionInfo": {
     "elapsed": 247,
     "status": "ok",
     "timestamp": 1673705218498,
     "user": {
      "displayName": "Татьяна Казакова",
      "userId": "07828874048466328312"
     },
     "user_tz": -180
    },
    "id": "hvbPSnnHMslM",
    "outputId": "ecdb3b3c-75a6-4668-d8d0-5228b6a3acf6"
   },
   "outputs": [
    {
     "name": "stdout",
     "output_type": "stream",
     "text": [
      "42\n",
      "<class 'str'>\n"
     ]
    }
   ],
   "source": [
    "print(user_input)\n",
    "print(type(user_input))  # Всегда принимаем от пользователя строку"
   ]
  },
  {
   "cell_type": "markdown",
   "metadata": {
    "id": "yHO9C3UlkUbo"
   },
   "source": [
    "### Тип данных можно иногда поменять\n",
    "`int()` - в целое число\n",
    "\n",
    "`float()` - в число с точкой\n",
    "\n",
    "`str()` - в строку"
   ]
  },
  {
   "cell_type": "code",
   "execution_count": 16,
   "metadata": {
    "colab": {
     "base_uri": "https://localhost:8080/"
    },
    "executionInfo": {
     "elapsed": 373,
     "status": "ok",
     "timestamp": 1673705220011,
     "user": {
      "displayName": "Татьяна Казакова",
      "userId": "07828874048466328312"
     },
     "user_tz": -180
    },
    "id": "jrnA4hO-NGaq",
    "outputId": "b5600886-9978-4643-bd51-f442b8f11a77"
   },
   "outputs": [
    {
     "name": "stdout",
     "output_type": "stream",
     "text": [
      "<class 'str'>\n",
      "42\n",
      "<class 'int'>\n"
     ]
    }
   ],
   "source": [
    "print(type(user_input))\n",
    "user_input_int = int(user_input)\n",
    "print(user_input_int)  # превратили строку в число\n",
    "print(type(user_input_int))"
   ]
  },
  {
   "cell_type": "code",
   "execution_count": 17,
   "metadata": {
    "colab": {
     "base_uri": "https://localhost:8080/",
     "height": 173
    },
    "executionInfo": {
     "elapsed": 302,
     "status": "error",
     "timestamp": 1673705222775,
     "user": {
      "displayName": "Татьяна Казакова",
      "userId": "07828874048466328312"
     },
     "user_tz": -180
    },
    "id": "lagt0nF_WnGb",
    "outputId": "1257bda1-d34f-4940-e266-47ab6bc424e6"
   },
   "outputs": [
    {
     "ename": "ValueError",
     "evalue": "ignored",
     "output_type": "error",
     "traceback": [
      "\u001b[0;31m---------------------------------------------------------------------------\u001b[0m",
      "\u001b[0;31mValueError\u001b[0m                                Traceback (most recent call last)",
      "\u001b[0;32m<ipython-input-17-8f12ae523cc1>\u001b[0m in \u001b[0;36m<module>\u001b[0;34m\u001b[0m\n\u001b[0;32m----> 1\u001b[0;31m \u001b[0mprint\u001b[0m\u001b[0;34m(\u001b[0m\u001b[0mtype\u001b[0m\u001b[0;34m(\u001b[0m\u001b[0mint\u001b[0m\u001b[0;34m(\u001b[0m\u001b[0;34m\"sjkkd\"\u001b[0m\u001b[0;34m)\u001b[0m\u001b[0;34m)\u001b[0m\u001b[0;34m)\u001b[0m  \u001b[0;31m# не всё можно превратить в число\u001b[0m\u001b[0;34m\u001b[0m\u001b[0;34m\u001b[0m\u001b[0m\n\u001b[0m",
      "\u001b[0;31mValueError\u001b[0m: invalid literal for int() with base 10: 'sjkkd'"
     ]
    }
   ],
   "source": [
    "print(type(int(\"sjkkd\")))  # не всё можно превратить в число"
   ]
  },
  {
   "cell_type": "code",
   "execution_count": 22,
   "metadata": {
    "colab": {
     "base_uri": "https://localhost:8080/",
     "height": 191
    },
    "executionInfo": {
     "elapsed": 241,
     "status": "error",
     "timestamp": 1673655988218,
     "user": {
      "displayName": "Татьяна Казакова",
      "userId": "07828874048466328312"
     },
     "user_tz": -180
    },
    "id": "dxeODT3Jq3U2",
    "outputId": "b5aacbb8-56bb-4039-dd69-bcddc8268eba"
   },
   "outputs": [
    {
     "ename": "ValueError",
     "evalue": "ignored",
     "output_type": "error",
     "traceback": [
      "\u001b[0;31m---------------------------------------------------------------------------\u001b[0m",
      "\u001b[0;31mValueError\u001b[0m                                Traceback (most recent call last)",
      "\u001b[0;32m<ipython-input-22-815e63d0a73b>\u001b[0m in \u001b[0;36m<module>\u001b[0;34m\u001b[0m\n\u001b[1;32m      1\u001b[0m \u001b[0mpi_string\u001b[0m \u001b[0;34m=\u001b[0m \u001b[0;34m'3.1415'\u001b[0m\u001b[0;34m\u001b[0m\u001b[0;34m\u001b[0m\u001b[0m\n\u001b[0;32m----> 2\u001b[0;31m \u001b[0mpi\u001b[0m \u001b[0;34m=\u001b[0m \u001b[0mint\u001b[0m\u001b[0;34m(\u001b[0m\u001b[0mpi_string\u001b[0m\u001b[0;34m)\u001b[0m\u001b[0;34m\u001b[0m\u001b[0;34m\u001b[0m\u001b[0m\n\u001b[0m",
      "\u001b[0;31mValueError\u001b[0m: invalid literal for int() with base 10: '3.1415'"
     ]
    }
   ],
   "source": [
    "pi_string = '3.1415'\n",
    "pi = int(pi_string)  # так тоже нельзя, int - целые числа"
   ]
  },
  {
   "cell_type": "code",
   "execution_count": 23,
   "metadata": {
    "colab": {
     "base_uri": "https://localhost:8080/"
    },
    "executionInfo": {
     "elapsed": 4,
     "status": "ok",
     "timestamp": 1673656018071,
     "user": {
      "displayName": "Татьяна Казакова",
      "userId": "07828874048466328312"
     },
     "user_tz": -180
    },
    "id": "qQTIxKfSqsMe",
    "outputId": "87ca2114-78ba-4ba6-f41d-1764093ba25b"
   },
   "outputs": [
    {
     "name": "stdout",
     "output_type": "stream",
     "text": [
      "3.1415\n"
     ]
    }
   ],
   "source": [
    "pi_string = '3.1415'\n",
    "pi = float(pi_string)  # переводим строку в float\n",
    "print(pi)"
   ]
  },
  {
   "cell_type": "code",
   "execution_count": 25,
   "metadata": {
    "colab": {
     "base_uri": "https://localhost:8080/"
    },
    "executionInfo": {
     "elapsed": 1035,
     "status": "ok",
     "timestamp": 1673656219953,
     "user": {
      "displayName": "Татьяна Казакова",
      "userId": "07828874048466328312"
     },
     "user_tz": -180
    },
    "id": "Fr1CHLc5rNBT",
    "outputId": "f40f5f1d-d2ff-4f4c-eb7a-2999eb490e95"
   },
   "outputs": [
    {
     "data": {
      "text/plain": [
       "2"
      ]
     },
     "execution_count": 25,
     "metadata": {},
     "output_type": "execute_result"
    }
   ],
   "source": [
    "d = 2.3\n",
    "int(d)  # дробное число можно перевести в целое"
   ]
  },
  {
   "cell_type": "code",
   "execution_count": 27,
   "metadata": {
    "colab": {
     "base_uri": "https://localhost:8080/"
    },
    "executionInfo": {
     "elapsed": 227,
     "status": "ok",
     "timestamp": 1673656377430,
     "user": {
      "displayName": "Татьяна Казакова",
      "userId": "07828874048466328312"
     },
     "user_tz": -180
    },
    "id": "RjG8XoNbsLsd",
    "outputId": "6de53df9-4fa3-4b6a-8762-a3c838500fdc"
   },
   "outputs": [
    {
     "data": {
      "text/plain": [
       "2"
      ]
     },
     "execution_count": 27,
     "metadata": {},
     "output_type": "execute_result"
    }
   ],
   "source": [
    "e = 2.72\n",
    "int(e)  # это не округление, просто отбрасывается дробная часть"
   ]
  },
  {
   "cell_type": "code",
   "execution_count": 28,
   "metadata": {
    "colab": {
     "base_uri": "https://localhost:8080/"
    },
    "executionInfo": {
     "elapsed": 510,
     "status": "ok",
     "timestamp": 1673656440139,
     "user": {
      "displayName": "Татьяна Казакова",
      "userId": "07828874048466328312"
     },
     "user_tz": -180
    },
    "id": "NalJ-dYMsfZY",
    "outputId": "d9dac823-6019-48e6-ad22-03dba4697720"
   },
   "outputs": [
    {
     "data": {
      "text/plain": [
       "10.0"
      ]
     },
     "execution_count": 28,
     "metadata": {},
     "output_type": "execute_result"
    }
   ],
   "source": [
    "# целое в дробное тоже можно\n",
    "f = 10\n",
    "float(f)"
   ]
  },
  {
   "cell_type": "markdown",
   "metadata": {
    "id": "BCo4F1W3CL_8"
   },
   "source": [
    "### Потренируемся!\n",
    "Напишите код, берущий два числа у пользователя и выдающий их сумму"
   ]
  },
  {
   "cell_type": "code",
   "execution_count": 2,
   "metadata": {
    "colab": {
     "base_uri": "https://localhost:8080/"
    },
    "executionInfo": {
     "elapsed": 5453,
     "status": "ok",
     "timestamp": 1673644851121,
     "user": {
      "displayName": "Татьяна Казакова",
      "userId": "07828874048466328312"
     },
     "user_tz": -180
    },
    "id": "oIraTrNuCIUq",
    "outputId": "16618520-a759-4519-b1ae-0ba5b616d98d"
   },
   "outputs": [
    {
     "name": "stdout",
     "output_type": "stream",
     "text": [
      "Введите первое число: 2\n",
      "Введите второе число: 3\n",
      "Сумма:  5\n"
     ]
    }
   ],
   "source": [
    "# принимаем 2 числа\n",
    "answer1 = input('Введите первое число: ')\n",
    "answer2 = input('Введите второе число: ')\n",
    "\n",
    "# переводим в целочисленный формат\n",
    "number1 = int(answer1)\n",
    "number2 = int(answer2)\n",
    "\n",
    "summa = number1 + number2  # складываем\n",
    "print('Сумма: ', summa)  # печатаем ответ"
   ]
  },
  {
   "cell_type": "code",
   "execution_count": 2,
   "metadata": {
    "colab": {
     "base_uri": "https://localhost:8080/"
    },
    "executionInfo": {
     "elapsed": 9591,
     "status": "ok",
     "timestamp": 1673654002400,
     "user": {
      "displayName": "Татьяна Казакова",
      "userId": "07828874048466328312"
     },
     "user_tz": -180
    },
    "id": "dQkiUWMLi-eN",
    "outputId": "03b402f3-328f-42ce-e40f-d2a280a6b99f"
   },
   "outputs": [
    {
     "name": "stdout",
     "output_type": "stream",
     "text": [
      "Введите первое число: 6\n",
      "Введите второе число: 8\n",
      "Сумма:  14\n"
     ]
    }
   ],
   "source": [
    "# То же самое, но короче. Оба варианта правильные.\n",
    "\n",
    "number1 = int(input('Введите первое число: '))\n",
    "number2 = int(input('Введите второе число: '))\n",
    "print('Сумма: ', number1 + number2)"
   ]
  },
  {
   "cell_type": "markdown",
   "metadata": {
    "id": "ThrOF-SIbb1r"
   },
   "source": [
    "## Про красоту кода\n",
    "\n",
    "- переменные латиницей, названия говорящие: `newspaper_text` ~~bkjkbg~~, ~~плим~~\n",
    "- вокруг математических операторов пробелы: `c = a + b` ~~c=a+b~~\n",
    "- между функцией и скобкой нет пробела: `type('string')`~~type ('string')~~"
   ]
  },
  {
   "cell_type": "code",
   "execution_count": 2,
   "metadata": {
    "colab": {
     "base_uri": "https://localhost:8080/"
    },
    "executionInfo": {
     "elapsed": 617,
     "status": "ok",
     "timestamp": 1673703525051,
     "user": {
      "displayName": "Татьяна Казакова",
      "userId": "07828874048466328312"
     },
     "user_tz": -180
    },
    "id": "yMQp4yS1f-Jw",
    "outputId": "625b129f-f468-47d6-83d7-14d32300a421"
   },
   "outputs": [
    {
     "name": "stdout",
     "output_type": "stream",
     "text": [
      "Лёша Алёша\n"
     ]
    }
   ],
   "source": [
    "# регистр в названии важен\n",
    "some_name = 'Лёша'\n",
    "Some_name = 'Алёша'\n",
    "print(some_name, Some_name)"
   ]
  },
  {
   "cell_type": "code",
   "execution_count": 16,
   "metadata": {
    "colab": {
     "base_uri": "https://localhost:8080/"
    },
    "executionInfo": {
     "elapsed": 7,
     "status": "ok",
     "timestamp": 1673598613471,
     "user": {
      "displayName": "Татьяна Казакова",
      "userId": "07828874048466328312"
     },
     "user_tz": -180
    },
    "id": "j-VJacncP9ov",
    "outputId": "5955d2d0-abb9-472a-c7c9-2ff0d461ff04"
   },
   "outputs": [
    {
     "data": {
      "text/plain": [
       "['с', 'т', 'р', 'о', 'к', 'а']"
      ]
     },
     "execution_count": 16,
     "metadata": {},
     "output_type": "execute_result"
    }
   ],
   "source": [
    "list('строка')  # это те самые elementы in 'строка'"
   ]
  }
 ],
 "metadata": {
  "colab": {
   "provenance": [],
   "toc_visible": true
  },
  "kernelspec": {
   "display_name": "Python 3 (ipykernel)",
   "language": "python",
   "name": "python3"
  },
  "language_info": {
   "codemirror_mode": {
    "name": "ipython",
    "version": 3
   },
   "file_extension": ".py",
   "mimetype": "text/x-python",
   "name": "python",
   "nbconvert_exporter": "python",
   "pygments_lexer": "ipython3",
   "version": "3.9.7"
  }
 },
 "nbformat": 4,
 "nbformat_minor": 4
}
